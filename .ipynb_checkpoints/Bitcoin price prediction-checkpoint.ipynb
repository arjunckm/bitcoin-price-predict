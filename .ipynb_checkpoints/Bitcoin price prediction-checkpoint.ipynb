{
 "cells": [
  {
   "cell_type": "markdown",
   "metadata": {},
   "source": [
    "## Context\n",
    "Bitcoin is the longest running and most well known cryptocurrency, first released as open source in 2009 by the anonymous Satoshi Nakamoto. Bitcoin serves as a decentralized medium of digital exchange, with transactions verified and recorded in a public distributed ledger (the blockchain) without the need for a trusted record keeping authority or central intermediary. Transaction blocks contain a SHA-256 cryptographic hash of previous transaction blocks, and are thus \"chained\" together, serving as an immutable record of all transactions that have ever occurred. As with any currency/commodity on the market, bitcoin trading and financial instruments soon followed public adoption of bitcoin and continue to grow. Included here is historical bitcoin market data at 1-min intervals for select bitcoin exchanges where trading takes place. Happy (data) mining!\n",
    "\n",
    "## Content\n",
    "* coinbaseUSD1-mindata2014-12-01to_2019-01-09.csv\n",
    "\n",
    "* bitstampUSD1-mindata2012-01-01to_2020-04-22.csv\n",
    "\n",
    "CSV files for select bitcoin exchanges for the time period of Jan 2012 to April 2020, with minute to minute updates of OHLC (Open, High, Low, Close), Volume in BTC and indicated currency, and weighted bitcoin price. Timestamps are in Unix time. Timestamps without any trades or activity have their data fields filled with NaNs. If a timestamp is missing, or if there are jumps, this may be because the exchange (or its API) was down, the exchange (or its API) did not exist, or some other unforseen technical error in data reporting or gathering. All effort has been made to deduplicate entries and verify the contents are correct and complete to the best of my ability, but obviously trust at your own risk.\n",
    "\n",
    "## Acknowledgements and Inspiration\n",
    "Bitcoin charts for the data. The various exchange APIs, for making it difficult or unintuitive enough to get OHLC and volume data at 1-min intervals that I set out on this data scraping project. Satoshi Nakamoto and the novel core concept of the blockchain, as well as its first execution via the bitcoin protocol. I'd also like to thank viewers like you! Can't wait to see what code or insights you all have to share."
   ]
  },
  {
   "cell_type": "code",
   "execution_count": 1,
   "metadata": {},
   "outputs": [],
   "source": [
    "import numpy as np \n",
    "import pandas as pd\n",
    "import matplotlib.pyplot as plt\n",
    "%matplotlib inline\n",
    "\n",
    "import seaborn as sns\n",
    "\n",
    "import warnings\n",
    "warnings.filterwarnings(action='ignore')"
   ]
  },
  {
   "cell_type": "code",
   "execution_count": 2,
   "metadata": {},
   "outputs": [],
   "source": [
    "btcdf = pd.read_csv('bitcoin-historical-data/bitstampUSD_1-min_data_2012-01-01_to_2020-04-22.csv')"
   ]
  },
  {
   "cell_type": "code",
   "execution_count": 3,
   "metadata": {},
   "outputs": [
    {
     "data": {
      "text/html": [
       "<div>\n",
       "<style scoped>\n",
       "    .dataframe tbody tr th:only-of-type {\n",
       "        vertical-align: middle;\n",
       "    }\n",
       "\n",
       "    .dataframe tbody tr th {\n",
       "        vertical-align: top;\n",
       "    }\n",
       "\n",
       "    .dataframe thead th {\n",
       "        text-align: right;\n",
       "    }\n",
       "</style>\n",
       "<table border=\"1\" class=\"dataframe\">\n",
       "  <thead>\n",
       "    <tr style=\"text-align: right;\">\n",
       "      <th></th>\n",
       "      <th>Timestamp</th>\n",
       "      <th>Open</th>\n",
       "      <th>High</th>\n",
       "      <th>Low</th>\n",
       "      <th>Close</th>\n",
       "      <th>Volume_(BTC)</th>\n",
       "      <th>Volume_(Currency)</th>\n",
       "      <th>Weighted_Price</th>\n",
       "    </tr>\n",
       "  </thead>\n",
       "  <tbody>\n",
       "    <tr>\n",
       "      <td>0</td>\n",
       "      <td>1325317920</td>\n",
       "      <td>4.39</td>\n",
       "      <td>4.39</td>\n",
       "      <td>4.39</td>\n",
       "      <td>4.39</td>\n",
       "      <td>0.455581</td>\n",
       "      <td>2.0</td>\n",
       "      <td>4.39</td>\n",
       "    </tr>\n",
       "    <tr>\n",
       "      <td>1</td>\n",
       "      <td>1325317980</td>\n",
       "      <td>NaN</td>\n",
       "      <td>NaN</td>\n",
       "      <td>NaN</td>\n",
       "      <td>NaN</td>\n",
       "      <td>NaN</td>\n",
       "      <td>NaN</td>\n",
       "      <td>NaN</td>\n",
       "    </tr>\n",
       "    <tr>\n",
       "      <td>2</td>\n",
       "      <td>1325318040</td>\n",
       "      <td>NaN</td>\n",
       "      <td>NaN</td>\n",
       "      <td>NaN</td>\n",
       "      <td>NaN</td>\n",
       "      <td>NaN</td>\n",
       "      <td>NaN</td>\n",
       "      <td>NaN</td>\n",
       "    </tr>\n",
       "    <tr>\n",
       "      <td>3</td>\n",
       "      <td>1325318100</td>\n",
       "      <td>NaN</td>\n",
       "      <td>NaN</td>\n",
       "      <td>NaN</td>\n",
       "      <td>NaN</td>\n",
       "      <td>NaN</td>\n",
       "      <td>NaN</td>\n",
       "      <td>NaN</td>\n",
       "    </tr>\n",
       "    <tr>\n",
       "      <td>4</td>\n",
       "      <td>1325318160</td>\n",
       "      <td>NaN</td>\n",
       "      <td>NaN</td>\n",
       "      <td>NaN</td>\n",
       "      <td>NaN</td>\n",
       "      <td>NaN</td>\n",
       "      <td>NaN</td>\n",
       "      <td>NaN</td>\n",
       "    </tr>\n",
       "  </tbody>\n",
       "</table>\n",
       "</div>"
      ],
      "text/plain": [
       "    Timestamp  Open  High   Low  Close  Volume_(BTC)  Volume_(Currency)  \\\n",
       "0  1325317920  4.39  4.39  4.39   4.39      0.455581                2.0   \n",
       "1  1325317980   NaN   NaN   NaN    NaN           NaN                NaN   \n",
       "2  1325318040   NaN   NaN   NaN    NaN           NaN                NaN   \n",
       "3  1325318100   NaN   NaN   NaN    NaN           NaN                NaN   \n",
       "4  1325318160   NaN   NaN   NaN    NaN           NaN                NaN   \n",
       "\n",
       "   Weighted_Price  \n",
       "0            4.39  \n",
       "1             NaN  \n",
       "2             NaN  \n",
       "3             NaN  \n",
       "4             NaN  "
      ]
     },
     "execution_count": 3,
     "metadata": {},
     "output_type": "execute_result"
    }
   ],
   "source": [
    "btcdf.head()"
   ]
  },
  {
   "cell_type": "code",
   "execution_count": 4,
   "metadata": {},
   "outputs": [
    {
     "name": "stdout",
     "output_type": "stream",
     "text": [
      "<class 'pandas.core.frame.DataFrame'>\n",
      "RangeIndex: 4363457 entries, 0 to 4363456\n",
      "Data columns (total 8 columns):\n",
      "Timestamp            int64\n",
      "Open                 float64\n",
      "High                 float64\n",
      "Low                  float64\n",
      "Close                float64\n",
      "Volume_(BTC)         float64\n",
      "Volume_(Currency)    float64\n",
      "Weighted_Price       float64\n",
      "dtypes: float64(7), int64(1)\n",
      "memory usage: 266.3 MB\n"
     ]
    }
   ],
   "source": [
    "btcdf.info()"
   ]
  },
  {
   "cell_type": "code",
   "execution_count": 5,
   "metadata": {},
   "outputs": [
    {
     "data": {
      "text/html": [
       "<div>\n",
       "<style scoped>\n",
       "    .dataframe tbody tr th:only-of-type {\n",
       "        vertical-align: middle;\n",
       "    }\n",
       "\n",
       "    .dataframe tbody tr th {\n",
       "        vertical-align: top;\n",
       "    }\n",
       "\n",
       "    .dataframe thead th {\n",
       "        text-align: right;\n",
       "    }\n",
       "</style>\n",
       "<table border=\"1\" class=\"dataframe\">\n",
       "  <thead>\n",
       "    <tr style=\"text-align: right;\">\n",
       "      <th></th>\n",
       "      <th>Timestamp</th>\n",
       "      <th>Open</th>\n",
       "      <th>High</th>\n",
       "      <th>Low</th>\n",
       "      <th>Close</th>\n",
       "      <th>Volume_(BTC)</th>\n",
       "      <th>Volume_(Currency)</th>\n",
       "      <th>Weighted_Price</th>\n",
       "    </tr>\n",
       "  </thead>\n",
       "  <tbody>\n",
       "    <tr>\n",
       "      <td>count</td>\n",
       "      <td>4.363457e+06</td>\n",
       "      <td>3.126480e+06</td>\n",
       "      <td>3.126480e+06</td>\n",
       "      <td>3.126480e+06</td>\n",
       "      <td>3.126480e+06</td>\n",
       "      <td>3.126480e+06</td>\n",
       "      <td>3.126480e+06</td>\n",
       "      <td>3.126480e+06</td>\n",
       "    </tr>\n",
       "    <tr>\n",
       "      <td>mean</td>\n",
       "      <td>1.456469e+09</td>\n",
       "      <td>3.674656e+03</td>\n",
       "      <td>3.677366e+03</td>\n",
       "      <td>3.671730e+03</td>\n",
       "      <td>3.674595e+03</td>\n",
       "      <td>9.855040e+00</td>\n",
       "      <td>2.884459e+04</td>\n",
       "      <td>3.674570e+03</td>\n",
       "    </tr>\n",
       "    <tr>\n",
       "      <td>std</td>\n",
       "      <td>7.573296e+07</td>\n",
       "      <td>3.935578e+03</td>\n",
       "      <td>3.939077e+03</td>\n",
       "      <td>3.931713e+03</td>\n",
       "      <td>3.935490e+03</td>\n",
       "      <td>3.229272e+01</td>\n",
       "      <td>1.010277e+05</td>\n",
       "      <td>3.935458e+03</td>\n",
       "    </tr>\n",
       "    <tr>\n",
       "      <td>min</td>\n",
       "      <td>1.325318e+09</td>\n",
       "      <td>3.800000e+00</td>\n",
       "      <td>3.800000e+00</td>\n",
       "      <td>1.500000e+00</td>\n",
       "      <td>1.500000e+00</td>\n",
       "      <td>0.000000e+00</td>\n",
       "      <td>0.000000e+00</td>\n",
       "      <td>3.800000e+00</td>\n",
       "    </tr>\n",
       "    <tr>\n",
       "      <td>25%</td>\n",
       "      <td>1.390770e+09</td>\n",
       "      <td>4.100000e+02</td>\n",
       "      <td>4.102400e+02</td>\n",
       "      <td>4.098300e+02</td>\n",
       "      <td>4.100000e+02</td>\n",
       "      <td>3.988120e-01</td>\n",
       "      <td>3.503759e+02</td>\n",
       "      <td>4.099998e+02</td>\n",
       "    </tr>\n",
       "    <tr>\n",
       "      <td>50%</td>\n",
       "      <td>1.456610e+09</td>\n",
       "      <td>1.175140e+03</td>\n",
       "      <td>1.175770e+03</td>\n",
       "      <td>1.174825e+03</td>\n",
       "      <td>1.175140e+03</td>\n",
       "      <td>1.990000e+00</td>\n",
       "      <td>2.620491e+03</td>\n",
       "      <td>1.175200e+03</td>\n",
       "    </tr>\n",
       "    <tr>\n",
       "      <td>75%</td>\n",
       "      <td>1.522062e+09</td>\n",
       "      <td>6.931175e+03</td>\n",
       "      <td>6.935780e+03</td>\n",
       "      <td>6.926790e+03</td>\n",
       "      <td>6.931225e+03</td>\n",
       "      <td>7.639098e+00</td>\n",
       "      <td>1.760057e+04</td>\n",
       "      <td>6.931180e+03</td>\n",
       "    </tr>\n",
       "    <tr>\n",
       "      <td>max</td>\n",
       "      <td>1.587514e+09</td>\n",
       "      <td>1.966576e+04</td>\n",
       "      <td>1.966600e+04</td>\n",
       "      <td>1.964996e+04</td>\n",
       "      <td>1.966575e+04</td>\n",
       "      <td>5.853852e+03</td>\n",
       "      <td>7.569437e+06</td>\n",
       "      <td>1.966330e+04</td>\n",
       "    </tr>\n",
       "  </tbody>\n",
       "</table>\n",
       "</div>"
      ],
      "text/plain": [
       "          Timestamp          Open          High           Low         Close  \\\n",
       "count  4.363457e+06  3.126480e+06  3.126480e+06  3.126480e+06  3.126480e+06   \n",
       "mean   1.456469e+09  3.674656e+03  3.677366e+03  3.671730e+03  3.674595e+03   \n",
       "std    7.573296e+07  3.935578e+03  3.939077e+03  3.931713e+03  3.935490e+03   \n",
       "min    1.325318e+09  3.800000e+00  3.800000e+00  1.500000e+00  1.500000e+00   \n",
       "25%    1.390770e+09  4.100000e+02  4.102400e+02  4.098300e+02  4.100000e+02   \n",
       "50%    1.456610e+09  1.175140e+03  1.175770e+03  1.174825e+03  1.175140e+03   \n",
       "75%    1.522062e+09  6.931175e+03  6.935780e+03  6.926790e+03  6.931225e+03   \n",
       "max    1.587514e+09  1.966576e+04  1.966600e+04  1.964996e+04  1.966575e+04   \n",
       "\n",
       "       Volume_(BTC)  Volume_(Currency)  Weighted_Price  \n",
       "count  3.126480e+06       3.126480e+06    3.126480e+06  \n",
       "mean   9.855040e+00       2.884459e+04    3.674570e+03  \n",
       "std    3.229272e+01       1.010277e+05    3.935458e+03  \n",
       "min    0.000000e+00       0.000000e+00    3.800000e+00  \n",
       "25%    3.988120e-01       3.503759e+02    4.099998e+02  \n",
       "50%    1.990000e+00       2.620491e+03    1.175200e+03  \n",
       "75%    7.639098e+00       1.760057e+04    6.931180e+03  \n",
       "max    5.853852e+03       7.569437e+06    1.966330e+04  "
      ]
     },
     "execution_count": 5,
     "metadata": {},
     "output_type": "execute_result"
    }
   ],
   "source": [
    "btcdf.describe()"
   ]
  },
  {
   "cell_type": "code",
   "execution_count": 6,
   "metadata": {},
   "outputs": [
    {
     "data": {
      "text/plain": [
       "Timestamp            False\n",
       "Open                  True\n",
       "High                  True\n",
       "Low                   True\n",
       "Close                 True\n",
       "Volume_(BTC)          True\n",
       "Volume_(Currency)     True\n",
       "Weighted_Price        True\n",
       "dtype: bool"
      ]
     },
     "execution_count": 6,
     "metadata": {},
     "output_type": "execute_result"
    }
   ],
   "source": [
    "btcdf.isnull().any()"
   ]
  },
  {
   "cell_type": "markdown",
   "metadata": {},
   "source": [
    "Currently timpstamp data shows data for ever minute. so, let's resample data to have the timestamp with a stamp every month."
   ]
  },
  {
   "cell_type": "code",
   "execution_count": 7,
   "metadata": {},
   "outputs": [
    {
     "name": "stdout",
     "output_type": "stream",
     "text": [
      "0         2011-12-31 07:52:00\n",
      "1         2011-12-31 07:53:00\n",
      "2         2011-12-31 07:54:00\n",
      "3         2011-12-31 07:55:00\n",
      "4         2011-12-31 07:56:00\n",
      "                  ...        \n",
      "4363452   2020-04-21 23:56:00\n",
      "4363453   2020-04-21 23:57:00\n",
      "4363454   2020-04-21 23:58:00\n",
      "4363455   2020-04-21 23:59:00\n",
      "4363456   2020-04-22 00:00:00\n",
      "Name: Timestamp, Length: 4363457, dtype: datetime64[ns]\n"
     ]
    },
    {
     "ename": "NameError",
     "evalue": "name 'df' is not defined",
     "output_type": "error",
     "traceback": [
      "\u001b[1;31m---------------------------------------------------------------------------\u001b[0m",
      "\u001b[1;31mNameError\u001b[0m                                 Traceback (most recent call last)",
      "\u001b[1;32m<ipython-input-7-e4ff53bda7a3>\u001b[0m in \u001b[0;36m<module>\u001b[1;34m\u001b[0m\n\u001b[0;32m     15\u001b[0m \u001b[1;33m\u001b[0m\u001b[0m\n\u001b[0;32m     16\u001b[0m \u001b[1;31m# Quarterly frequency\u001b[0m\u001b[1;33m\u001b[0m\u001b[1;33m\u001b[0m\u001b[1;33m\u001b[0m\u001b[0m\n\u001b[1;32m---> 17\u001b[1;33m \u001b[0mbtcQut\u001b[0m \u001b[1;33m=\u001b[0m \u001b[0mdf\u001b[0m\u001b[1;33m.\u001b[0m\u001b[0mresample\u001b[0m\u001b[1;33m(\u001b[0m\u001b[1;34m'Q-DEC'\u001b[0m\u001b[1;33m)\u001b[0m\u001b[1;33m.\u001b[0m\u001b[0mmean\u001b[0m\u001b[1;33m(\u001b[0m\u001b[1;33m)\u001b[0m\u001b[1;33m\u001b[0m\u001b[1;33m\u001b[0m\u001b[0m\n\u001b[0m",
      "\u001b[1;31mNameError\u001b[0m: name 'df' is not defined"
     ]
    }
   ],
   "source": [
    "# print(btcdf.Timestamp)\n",
    "\n",
    "btcdf.Timestamp = pd.to_datetime(btcdf.Timestamp, unit = 's')\n",
    "print(btcdf.Timestamp);\n",
    "\n",
    "btcdf.index = btcdf.Timestamp\n",
    "\n",
    "btcdf_copy=btcdf\n",
    "\n",
    "# Monthly frequency\n",
    "btcdf = btcdf_copy.resample('M').mean()\n",
    "\n",
    "# Day frequency\n",
    "btcdfday = btcdf.resample('D').mean()\n",
    "\n",
    "# Annual frequency\n",
    "btcyear = btcdf.resample('A-DEC').mean()\n",
    "\n",
    "# Quarterly frequency\n",
    "btcQut = btcdf.resample('Q-DEC').mean()"
   ]
  },
  {
   "cell_type": "code",
   "execution_count": null,
   "metadata": {},
   "outputs": [],
   "source": [
    "plt.subplot(221)\n",
    "sns.lineplot(data = btcdfday.Weighted_Price, label='By Days', color = 'green')\n",
    "\n",
    "plt.subplot(221)\n",
    "sns.lineplot(data = btcdf.Weighted_Price, label='By Month', color = 'green')\n",
    "\n",
    "plt.subplot(221)\n",
    "sns.lineplot(data = btcQut.Weighted_Price, label='By Quarterly', color = 'green')\n",
    "\n",
    "plt.subplot(221)\n",
    "sns.lineplot(data = btcyear.Weighted_Price, label='By Annual', color = 'green')"
   ]
  },
  {
   "cell_type": "code",
   "execution_count": null,
   "metadata": {},
   "outputs": [],
   "source": [
    "btcdf.head()"
   ]
  },
  {
   "cell_type": "code",
   "execution_count": null,
   "metadata": {},
   "outputs": [],
   "source": [
    "btcdf.describe()"
   ]
  },
  {
   "cell_type": "code",
   "execution_count": null,
   "metadata": {},
   "outputs": [],
   "source": [
    "btcdf.isnull().any()"
   ]
  },
  {
   "cell_type": "code",
   "execution_count": null,
   "metadata": {},
   "outputs": [],
   "source": [
    "plt.figure(figsize = (15,5))\n",
    "sns.lineplot(x = btcdf.index, y = btcdf.Weighted_Price)\n"
   ]
  },
  {
   "cell_type": "markdown",
   "metadata": {},
   "source": [
    "implementation of time series analysis to make some meaning out of the given time series data.\n",
    "\n",
    "<b>Here I am trying to implement ARIMA model to analyse our time series first. but our series data should be stationary. To do that we will be using below techniques</b>\n",
    "<ol>\n",
    "    <li>Seasonal Trend Decomposition</li>\n",
    "    <li>Dicky Fuller test</li>\n",
    "</ol>"
   ]
  },
  {
   "cell_type": "code",
   "execution_count": null,
   "metadata": {},
   "outputs": [],
   "source": [
    "from statsmodels.tsa.seasonal import seasonal_decompose\n",
    "from statsmodels.tsa.stattools import adfuller\n",
    "from statsmodels.tsa.stattools import acf, pacf\n",
    "from statsmodels.tsa.arima_model import ARIMA\n",
    "from scipy.stats import boxcox"
   ]
  },
  {
   "cell_type": "markdown",
   "metadata": {},
   "source": [
    "#### Test for original prices series"
   ]
  },
  {
   "cell_type": "code",
   "execution_count": null,
   "metadata": {},
   "outputs": [],
   "source": [
    "#Creating functions to reduce testing code repeat.\n",
    "\n",
    "def sea_decompose(Seriesdata):\n",
    "    plt.figure(figsize = (15,7))\n",
    "    sea_data=seasonal_decompose(Seriesdata);\n",
    "    sea_data.plot()\n",
    "    plt.show()\n",
    "    \n",
    "def Dicky_Fuller_Test(Seriesdata):\n",
    "    testDF = adfuller(Seriesdata)\n",
    "    print(\"Dicky Fuller test p-value : %.16f\" %testDF[1] )\n",
    "    \n",
    "    \n",
    "def dataPlot(Seriesdata):\n",
    "    plt.figure(figsize = (10,6))\n",
    "    sns.lineplot(data = Seriesdata, color = 'red', label = 'Observed line plot')\n",
    "    sns.lineplot(data = Seriesdata.rolling(window = 12).mean(), color = 'green', label = 'Rolling mean, window -12')\n",
    "    sns.lineplot(data = Seriesdata.rolling(window = 12).std(), color = 'blue', label = 'Rolling standard deviation, window -12')"
   ]
  },
  {
   "cell_type": "code",
   "execution_count": null,
   "metadata": {},
   "outputs": [],
   "source": [
    "price = btcdf.Weighted_Price\n",
    "print(\"Dicky Fuller Test\")\n",
    "Dicky_Fuller_Test(price)\n",
    "print(\"\\nseasonal decompose\")\n",
    "sea_decompose(price)\n",
    "\n",
    "dataPlot(price)"
   ]
  },
  {
   "cell_type": "markdown",
   "metadata": {},
   "source": [
    "By this visualisation and the p value of the Dicky Fuller test > 0.05, the series is not stationary and hence,so ARIMA model can't be applied immediatly. \n",
    "\n",
    "By implementing a few transformations, we can make our series suitable for ARIMA modelling."
   ]
  },
  {
   "cell_type": "markdown",
   "metadata": {},
   "source": [
    "### Transformations"
   ]
  },
  {
   "cell_type": "markdown",
   "metadata": {},
   "source": [
    "#### Log Transformation"
   ]
  },
  {
   "cell_type": "code",
   "execution_count": null,
   "metadata": {},
   "outputs": [],
   "source": [
    "pricelog = np.log(price)\n",
    "\n",
    "print(\"Dicky Fuller Test\")\n",
    "Dicky_Fuller_Test(pricelog)\n",
    "print(\"\\nseasonal decompose\")\n",
    "sea_decompose(pricelog)\n",
    "\n",
    "dataPlot(pricelog)"
   ]
  },
  {
   "cell_type": "markdown",
   "metadata": {},
   "source": [
    "Above log transformation for series are not stationary."
   ]
  },
  {
   "cell_type": "markdown",
   "metadata": {},
   "source": [
    "#### Box Cox power transform"
   ]
  },
  {
   "cell_type": "code",
   "execution_count": null,
   "metadata": {},
   "outputs": [],
   "source": [
    "price_boxcox, lambdaData = boxcox(price)\n",
    "\n",
    "#decompose functions requires a pandas object that has a timestamp index.\n",
    "prices_box_cox = pd.Series(data = price_boxcox, index = btcdf.index)\n",
    "\n",
    "print(\"Dicky Fuller Test\")\n",
    "Dicky_Fuller_Test(prices_box_cox)\n",
    "\n",
    "print('lambda value:', lambdaData)\n",
    "\n",
    "print(\"\\nseasonal decompose\")\n",
    "sea_decompose(prices_box_cox)\n",
    "\n",
    "dataPlot(prices_box_cox)\n"
   ]
  },
  {
   "cell_type": "markdown",
   "metadata": {},
   "source": [
    "Above Box Cox power transform for series are not stationary."
   ]
  },
  {
   "cell_type": "markdown",
   "metadata": {},
   "source": [
    "#### Regular differentiation \n",
    "applied to log transformation price"
   ]
  },
  {
   "cell_type": "code",
   "execution_count": null,
   "metadata": {},
   "outputs": [],
   "source": [
    "regularl_log_price = pricelog - pricelog.shift(1)\n",
    "regularl_log_price.dropna(inplace = True)\n",
    "\n",
    "print(\"Dicky Fuller Test\")\n",
    "Dicky_Fuller_Test(regularl_log_price)\n",
    "print(\"\\nseasonal decompose\")\n",
    "sea_decompose(regularl_log_price)\n",
    "\n",
    "dataPlot(regularl_log_price)"
   ]
  },
  {
   "cell_type": "markdown",
   "metadata": {},
   "source": [
    "#### Regular differentiation \n",
    "applied to box cox log transformation price"
   ]
  },
  {
   "cell_type": "code",
   "execution_count": null,
   "metadata": {},
   "outputs": [],
   "source": [
    "price_boxcox_reg = prices_box_cox - prices_box_cox.shift(1)\n",
    "price_boxcox_reg.dropna(inplace = True)\n",
    "\n",
    "print(\"Dicky Fuller Test\")\n",
    "Dicky_Fuller_Test(price_boxcox_reg)\n",
    "print(\"\\nseasonal decompose\")\n",
    "sea_decompose(price_boxcox_reg)\n",
    "\n",
    "dataPlot(price_boxcox_reg)"
   ]
  },
  {
   "cell_type": "markdown",
   "metadata": {},
   "source": [
    "After Regular differentiation our series data looks good and satisfactory"
   ]
  },
  {
   "cell_type": "markdown",
   "metadata": {},
   "source": [
    "By ploting Autocorrelation and Partial Autocorrelation. We get an idea of the parameters to be used for using in ARIMA."
   ]
  },
  {
   "cell_type": "code",
   "execution_count": null,
   "metadata": {},
   "outputs": [],
   "source": [
    "plt.figure(figsize = (15,8)) \n",
    "plot_acf = acf(regularl_log_price)\n",
    "plot_pacf = pacf(regularl_log_price)\n",
    "\n",
    "# fig, axes = plt.subplots(nrows=1, ncols=2, figsize=(12,5))\n",
    "\n",
    "plt.subplot(221)\n",
    "sns.lineplot(data = plot_acf, color = 'green')\n",
    "plt.axhline(y=0, linestyle='--', color='gray')\n",
    "\n",
    "plt.subplot(222)\n",
    "sns.lineplot(data = plot_pacf, color = 'gold')\n",
    "plt.axhline(y=0, linestyle='--', color='gray')\n",
    "\n",
    "# fig.tight_laypout()"
   ]
  },
  {
   "cell_type": "markdown",
   "metadata": {},
   "source": [
    "We infer from the plot that The ACF and PACF gets close to zero while lag approaches one.\n",
    "\n",
    "As per the plots let us try different values of p and q. D = 1"
   ]
  },
  {
   "cell_type": "code",
   "execution_count": null,
   "metadata": {},
   "outputs": [],
   "source": [
    "from itertools import product\n",
    "from numpy.linalg import LinAlgError"
   ]
  },
  {
   "cell_type": "code",
   "execution_count": null,
   "metadata": {},
   "outputs": [],
   "source": [
    "a = [[1,2,3], [1],[1,2,3]]\n",
    "params = list(product(*a))\n",
    "\n",
    "results = []   \n",
    "min_aic = float('inf')\n",
    "best_param = []\n",
    "\n",
    "# checking different set of params for best fit\n",
    "for param in params:\n",
    "    try:\n",
    "        model = ARIMA(pricelog, order = param).fit(disp = -1)\n",
    "    except LinAlgError:\n",
    "        print('Rejected Parameters:', param)\n",
    "        continue\n",
    "    except ValueError:\n",
    "        print('Rejected Parameters:', param)\n",
    "        continue\n",
    "    if(min_aic > model.aic):\n",
    "        min_aic = model.aic\n",
    "        best_param = param\n",
    "        best_model = model\n",
    "        \n",
    "    results.append([param, model.aic])\n",
    "\n",
    "print(best_param,min_aic)\n",
    "# print(results)\n",
    "\n",
    "# print(best_model.fittedvalues)\n",
    "\n",
    "plt.figure(figsize=(16,8))\n",
    "sns.lineplot(data = regularl_log_price, color = 'blue')\n",
    "sns.lineplot(data = best_model.fittedvalues, color = 'brown')    "
   ]
  },
  {
   "cell_type": "code",
   "execution_count": null,
   "metadata": {},
   "outputs": [],
   "source": [
    "fitted_values = best_model.fittedvalues\n",
    "fitted_values = fitted_values.cumsum()\n",
    "\n",
    "fitted_values = fitted_values + pricelog[0]\n",
    "\n",
    "final_values = np.exp(fitted_values)\n",
    "\n",
    "d = {'prices' : price, 'pricelog' : pricelog, 'regularl_log_price' : regularl_log_price, 'fitted_values' : fitted_values, 'final_values' : final_values}\n",
    "summaryDF = pd.DataFrame(data = d)\n",
    "plt.figure(figsize=(15,6))\n",
    "sns.lineplot(data = summaryDF['prices'], color = 'blue')\n",
    "sns.lineplot(data = summaryDF['final_values'], color = 'brown')"
   ]
  },
  {
   "cell_type": "markdown",
   "metadata": {},
   "source": [
    "### Final Price Prediction"
   ]
  },
  {
   "cell_type": "code",
   "execution_count": null,
   "metadata": {},
   "outputs": [],
   "source": [
    "startMonth=1\n",
    "endMonth=112\n",
    "predicted_values = np.exp((best_model.predict(start = startMonth, end = endMonth).cumsum()) + pricelog[0])\n",
    "plt.figure(figsize=(15,6))\n",
    "sns.lineplot(data = price, label  = 'Recorded')\n",
    "sns.lineplot(data = predicted_values, ls='--', label = 'Predicted')\n"
   ]
  },
  {
   "cell_type": "code",
   "execution_count": null,
   "metadata": {},
   "outputs": [],
   "source": []
  }
 ],
 "metadata": {
  "kernelspec": {
   "display_name": "Python 3",
   "language": "python",
   "name": "python3"
  },
  "language_info": {
   "codemirror_mode": {
    "name": "ipython",
    "version": 3
   },
   "file_extension": ".py",
   "mimetype": "text/x-python",
   "name": "python",
   "nbconvert_exporter": "python",
   "pygments_lexer": "ipython3",
   "version": "3.7.4"
  }
 },
 "nbformat": 4,
 "nbformat_minor": 4
}
